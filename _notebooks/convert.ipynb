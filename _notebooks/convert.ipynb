{
 "cells": [
  {
   "cell_type": "code",
   "execution_count": 3,
   "metadata": {
    "collapsed": false
   },
   "outputs": [
    {
     "name": "stdout",
     "output_type": "stream",
     "text": [
      "[NbConvertApp] Converting notebook oscillating-parameters-in-variational-mean-field-approximation.ipynb to markdown\n",
      "[NbConvertApp] Support files will be in oscillating-parameters-in-variational-mean-field-approximation_files/\n",
      "[NbConvertApp] Making directory oscillating-parameters-in-variational-mean-field-approximation_files\n",
      "[NbConvertApp] Making directory oscillating-parameters-in-variational-mean-field-approximation_files\n",
      "[NbConvertApp] Making directory oscillating-parameters-in-variational-mean-field-approximation_files\n",
      "[NbConvertApp] Making directory oscillating-parameters-in-variational-mean-field-approximation_files\n",
      "[NbConvertApp] Writing 9599 bytes to oscillating-parameters-in-variational-mean-field-approximation.md\n"
     ]
    }
   ],
   "source": [
    "! python convert.py --date 2016-03-31 oscillating-parameters-in-variational-mean-field-approximation.ipynb"
   ]
  },
  {
   "cell_type": "code",
   "execution_count": 2,
   "metadata": {
    "collapsed": false
   },
   "outputs": [
    {
     "name": "stdout",
     "output_type": "stream",
     "text": [
      "[NbConvertApp] Converting notebook variational-linear-regression-in-tensorflow.ipynb to markdown\n",
      "[NbConvertApp] Support files will be in variational-linear-regression-in-tensorflow_files/\n",
      "[NbConvertApp] Making directory variational-linear-regression-in-tensorflow_files\n",
      "[NbConvertApp] Making directory variational-linear-regression-in-tensorflow_files\n",
      "[NbConvertApp] Making directory variational-linear-regression-in-tensorflow_files\n",
      "[NbConvertApp] Writing 3467 bytes to variational-linear-regression-in-tensorflow.md\n"
     ]
    }
   ],
   "source": [
    "! python convert.py --date 2016-03-31 variational-linear-regression-in-tensorflow.ipynb"
   ]
  },
  {
   "cell_type": "code",
   "execution_count": 2,
   "metadata": {
    "collapsed": false
   },
   "outputs": [
    {
     "name": "stdout",
     "output_type": "stream",
     "text": [
      "[NbConvertApp] Converting notebook Cpp-containers-in-cython.ipynb to markdown\n",
      "[NbConvertApp] Support files will be in Cpp-containers-in-cython_files/\n",
      "[NbConvertApp] Making directory Cpp-containers-in-cython_files\n",
      "[NbConvertApp] Writing 7362 bytes to Cpp-containers-in-cython.md\n"
     ]
    }
   ],
   "source": [
    "! python convert.py --date 2016-04-18 Cpp-containers-in-cython.ipynb"
   ]
  },
  {
   "cell_type": "code",
   "execution_count": null,
   "metadata": {
    "collapsed": true
   },
   "outputs": [],
   "source": []
  }
 ],
 "metadata": {
  "kernelspec": {
   "display_name": "Python 2",
   "language": "python",
   "name": "python2"
  },
  "language_info": {
   "codemirror_mode": {
    "name": "ipython",
    "version": 2
   },
   "file_extension": ".py",
   "mimetype": "text/x-python",
   "name": "python",
   "nbconvert_exporter": "python",
   "pygments_lexer": "ipython2",
   "version": "2.7.11"
  }
 },
 "nbformat": 4,
 "nbformat_minor": 0
}
