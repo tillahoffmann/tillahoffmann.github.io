{
 "cells": [
  {
   "cell_type": "raw",
   "metadata": {},
   "source": [
    "---\n",
    "layout: default\n",
    "---"
   ]
  },
  {
   "cell_type": "markdown",
   "metadata": {},
   "source": [
    "Cython's [typed memoryviews](http://docs.cython.org/src/userguide/memoryviews.html) provide a great interface for rectangular arrays. But I often need to represent jagged arrays such as the neighbours of nodes in a network. The standard python `dict` can represent such data nicely but is not statically typed. It can thus be quite slow compared with the templated containers in the C++ standard library. In this post, we'll have a look at how to use the power of the STL via cython.\n",
    "\n",
    "Let's generate a directed [Erdos-Renyi network](https://en.wikipedia.org/wiki/Erd%C5%91s%E2%80%93R%C3%A9nyi_model) and represent it as an adjacency list."
   ]
  },
  {
   "cell_type": "code",
   "execution_count": 1,
   "metadata": {},
   "outputs": [],
   "source": [
    "%matplotlib inline\n",
    "%load_ext cython\n",
    "import numpy as np\n",
    "import matplotlib.pyplot as plt\n",
    "from matplotlib import rcParams\n",
    "rcParams['figure.figsize'] = (9, 6)\n",
    "\n",
    "# Define the number of nodes and edge density\n",
    "n = 1000\n",
    "p = 0.01\n",
    "\n",
    "# Generate a condensed adjacency matrix\n",
    "adjacency = np.random.uniform(0, 1, (n, n)) < p\n",
    "# Convert to an adjacency list\n",
    "adjacency_list = np.transpose(np.nonzero(adjacency)).astype(np.int32)"
   ]
  },
  {
   "cell_type": "markdown",
   "metadata": {},
   "source": [
    "## Representing the network as a mapping of neighbours\n",
    "\n",
    "The adjacency list is not particularly useful if we want to look up the neighbours of a particular node because we have to iterate over the whole list. Let's convert the adjacency list to a dictionary that maps nodes to their neighbours."
   ]
  },
  {
   "cell_type": "code",
   "execution_count": 2,
   "metadata": {
    "collapsed": true
   },
   "outputs": [],
   "source": [
    "adjacency_map = {}\n",
    "# Iterate over all pairs of connected nodes\n",
    "for u, v in adjacency_list:\n",
    "    # Check if the node already has some neighbours\n",
    "    neighbours = adjacency_map.get(u)\n",
    "    if not neighbours:\n",
    "        neighbours = adjacency_map[u] = []\n",
    "    # Add to the list of neighbours\n",
    "    neighbours.append(v)"
   ]
  },
  {
   "cell_type": "markdown",
   "metadata": {},
   "source": [
    "It is now straightforward to look up the neighbours of different nodes. For example, the neighbours of node 42 are:"
   ]
  },
  {
   "cell_type": "code",
   "execution_count": 3,
   "metadata": {},
   "outputs": [
    {
     "data": {
      "text/plain": [
       "[127, 315, 550, 618, 738, 926]"
      ]
     },
     "execution_count": 3,
     "metadata": {},
     "output_type": "execute_result"
    }
   ],
   "source": [
    "adjacency_map[42]"
   ]
  },
  {
   "cell_type": "markdown",
   "metadata": {},
   "source": [
    "## Using cython\n",
    "\n",
    "Sometimes the standard python code just doesn't perform well enough, and we want to make use of statically typed C++ code. The [`map`](http://www.cplusplus.com/reference/map/map/) container is the analogue of a dictionary in python. As usual, C++ is a bit more cumbersome. Here we go."
   ]
  },
  {
   "cell_type": "code",
   "execution_count": 22,
   "metadata": {},
   "outputs": [],
   "source": [
    "%%cython\n",
    "\n",
    "# distutils: language = c++\n",
    "# cython: boundscheck = False\n",
    "\n",
    "# Import the map and vector templates from the STL\n",
    "from libcpp.map cimport map as cpp_map\n",
    "from libcpp.vector cimport vector as cpp_vector\n",
    "from libcpp.utility cimport pair as cpp_pair\n",
    "\n",
    "ctypedef cpp_vector[int] cpp_neighbourhood\n",
    "ctypedef cpp_map[int, cpp_neighbourhood] cpp_adjacency_map\n",
    "ctypedef cpp_pair[int, cpp_neighbourhood] cpp_item\n",
    "\n",
    "# Import a few operators because they aren't supported by cython syntax\n",
    "from cython.operator cimport dereference as deref, preincrement as preinc\n",
    "\n",
    "cdef class AdjacencyMap:\n",
    "    cdef:\n",
    "        cpp_adjacency_map container\n",
    "        \n",
    "    def __init__(self, int[:, :] adjacency_list):\n",
    "        cdef:\n",
    "            int i, ego, alter\n",
    "            cpp_neighbourhood neighbourhood\n",
    "            \n",
    "        # Iterate over all entries of the adjacency list\n",
    "        for i in range(adjacency_list.shape[0]):\n",
    "            ego = adjacency_list[i, 0]\n",
    "            alter = adjacency_list[i, 1]\n",
    "            \n",
    "            # Check if the ego is already in the map \n",
    "            # (see http://stackoverflow.com/a/101980/1150961 for details)\n",
    "            lb = self.container.lower_bound(ego)\n",
    "            \n",
    "            # Check if the key already exists\n",
    "            if lb != self.container.end() and ego == deref(lb).first:\n",
    "                # Add the node to the pair\n",
    "                deref(lb).second.push_back(alter)\n",
    "            else:\n",
    "                # Insert a new key value pair\n",
    "                neighbourhood = cpp_neighbourhood()\n",
    "                neighbourhood.push_back(alter)\n",
    "                self.container.insert(lb, cpp_item(ego, neighbourhood))\n",
    "                \n",
    "    def get(self, int ego):\n",
    "        \"\"\"\n",
    "        Get the neighbours of `ego` or `None` if `ego` isn't in the map.\n",
    "        \"\"\"\n",
    "        # Search the dictionary\n",
    "        iterator = self.container.find(ego)\n",
    "        # Return none if we didn't find anything\n",
    "        if iterator == self.container.end():\n",
    "            return None\n",
    "        # Create a list of values from the vector\n",
    "        values = []\n",
    "        # Iterate over the neighbourhood and add values to the list\n",
    "        neighbourhood = deref(iterator).second\n",
    "        neighbourhood_iterator = neighbourhood.begin()\n",
    "        while neighbourhood_iterator != neighbourhood.end():\n",
    "            values.append(deref(neighbourhood_iterator))\n",
    "            preinc(neighbourhood_iterator)\n",
    "            \n",
    "        return values\n",
    "    \n",
    "    def _get_many(self, int[:] egos):\n",
    "        \"\"\"\n",
    "        Simple function to illustrate overhead.\n",
    "        \"\"\"\n",
    "        cdef int i\n",
    "        # Try to find the ego a large number of times\n",
    "        for i in range(egos.shape[0]):\n",
    "            iterator = self.container.find(egos[i])"
   ]
  },
  {
   "cell_type": "code",
   "execution_count": 23,
   "metadata": {},
   "outputs": [
    {
     "data": {
      "text/plain": [
       "[127, 315, 550, 618, 738, 926]"
      ]
     },
     "execution_count": 23,
     "metadata": {},
     "output_type": "execute_result"
    }
   ],
   "source": [
    "stl_adjacency_map = AdjacencyMap(adjacency_list)\n",
    "stl_adjacency_map.get(42)"
   ]
  },
  {
   "cell_type": "markdown",
   "metadata": {},
   "source": [
    "## Comparison of the two implementations\n",
    "\n",
    "Let's compare the two implementations in terms of performance."
   ]
  },
  {
   "cell_type": "code",
   "execution_count": 21,
   "metadata": {},
   "outputs": [
    {
     "name": "stdout",
     "output_type": "stream",
     "text": [
      "The slowest run took 31.22 times longer than the fastest. This could mean that an intermediate result is being cached.\n",
      "1000000 loops, best of 3: 1.63 µs per loop\n",
      "The slowest run took 5.81 times longer than the fastest. This could mean that an intermediate result is being cached.\n",
      "1000000 loops, best of 3: 656 ns per loop\n"
     ]
    }
   ],
   "source": [
    "%timeit adjacency_map.get(42)\n",
    "%timeit stl_adjacency_map.get(42)"
   ]
  },
  {
   "cell_type": "markdown",
   "metadata": {},
   "source": [
    "Ok, the complex implementation is a bit faster than the standard python implementation but it really doesn't seem worth the effort. It turns out the largest performance cost is the overhead from calling the C++ function from python. If we just want to look up neighbours in the C++ code, it's super fast. The class above has a simple function `_get_many` to illustrate this effect: it looks up the neighbours of a particular node a large number of times such that we can tease out how much the performance depends on the overhead."
   ]
  },
  {
   "cell_type": "code",
   "execution_count": 25,
   "metadata": {},
   "outputs": [],
   "source": [
    "# The number of repetitions to perform\n",
    "repeats = [1, 10, 100, 1000, 10000]\n",
    "cpp_times = []\n",
    "# Use the timeit module to figure out how long it takes to call the function\n",
    "for repeat in repeats:\n",
    "    egos = np.random.randint(n, size=repeat).astype(np.int32)\n",
    "    result = %timeit -o -q -r 20 stl_adjacency_map._get_many(egos)\n",
    "    cpp_times.append(result)"
   ]
  },
  {
   "cell_type": "code",
   "execution_count": 26,
   "metadata": {},
   "outputs": [],
   "source": [
    "# Do the same for python\n",
    "def _get_many(egos):\n",
    "    for ego in egos:\n",
    "        adjacency_map.get(ego)\n",
    "\n",
    "python_times = []\n",
    "# Use the timeit module to figure out how long it takes to call the function\n",
    "for repeat in repeats:\n",
    "    egos = np.random.randint(n, size=repeat)\n",
    "    result = %timeit -o -q -r 20 _get_many(egos)\n",
    "    python_times.append(result)"
   ]
  },
  {
   "cell_type": "code",
   "execution_count": 27,
   "metadata": {},
   "outputs": [
    {
     "data": {
      "image/png": "[encoded data removed]",
      "text/plain": [
       "<matplotlib.figure.Figure at 0x1174a9990>"
      ]
     },
     "metadata": {},
     "output_type": "display_data"
    }
   ],
   "source": [
    "# Extract times and convert to nanoseconds\n",
    "cpp = np.asarray([time.all_runs for time in cpp_times]) * 1e3\n",
    "# Compute mean and standard deviation\n",
    "cpp_mean = np.mean(cpp, axis=1) / repeats\n",
    "cpp_std = np.std(cpp, axis=1) / repeats\n",
    "\n",
    "# Extract times and convert to nanoseconds\n",
    "python = np.asarray([time.all_runs for time in python_times]) * 1e3\n",
    "# Compute mean and standard deviation\n",
    "python_mean = np.mean(python, axis=1) / repeats\n",
    "python_std = np.std(python, axis=1) / repeats\n",
    "\n",
    "# Show two standard deviations\n",
    "plt.errorbar(repeats, cpp_mean, 2 * cpp_std, marker='.', label='C++')\n",
    "plt.errorbar(repeats, python_mean, 2 * python_std, marker='.', label='python')\n",
    "plt.xscale('log')\n",
    "plt.yscale('log')\n",
    "plt.xlabel('Number of repetitions')\n",
    "plt.ylabel('Time per repetition in nanoseconds')\n",
    "# Fix the limits of the plot\n",
    "f = 0.8\n",
    "plt.xlim(1 * f, 1e4 / f)\n",
    "pass"
   ]
  },
  {
   "cell_type": "markdown",
   "metadata": {},
   "source": [
    "Wow, most of the computational time is taken up by the overhead of calling the function and converting the results into a format that python can handle (rather than a C++ vector).\n",
    "\n",
    "In short, if you only want to look stuff up in a dictionary, don't bother implementing a wrapper for the STL. However, if you intend to do a lot of processing in cython, you can get enormous performance gains by putting in the effort to use statically typed containers."
   ]
  }
 ],
 "metadata": {
  "kernelspec": {
   "display_name": "Python 3 (ipykernel)",
   "language": "python",
   "name": "python3"
  },
  "language_info": {
   "codemirror_mode": {
    "name": "ipython",
    "version": 3
   },
   "file_extension": ".py",
   "mimetype": "text/x-python",
   "name": "python",
   "nbconvert_exporter": "python",
   "pygments_lexer": "ipython3",
   "version": "3.10.9"
  }
 },
 "nbformat": 4,
 "nbformat_minor": 1
}
